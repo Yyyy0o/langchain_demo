{
 "cells": [
  {
   "cell_type": "code",
   "execution_count": null,
   "id": "def44492-89bf-4464-9914-7f14a6139383",
   "metadata": {},
   "outputs": [],
   "source": [
    "from dotenv import load_dotenv\n",
    "\n",
    "load_dotenv()\n",
    "\n",
    "model = 'doubao-1-5-pro-32k-250115'"
   ]
  },
  {
   "cell_type": "code",
   "execution_count": 5,
   "id": "d9c42052-faa9-4763-afe3-bd88e9dae9ec",
   "metadata": {},
   "outputs": [
    {
     "name": "stdout",
     "output_type": "stream",
     "text": [
      "[Document(metadata={'source': 'mammal-pets-doc'}, page_content='Dogs are great companions, known for their loyalty and friendliness.'), Document(metadata={'source': 'mammal-pets-doc'}, page_content='Cats are independent pets that often enjoy their own space.')]\n"
     ]
    }
   ],
   "source": [
    "from langchain_core.documents import Document\n",
    "\n",
    "documents = [\n",
    "    Document( page_content=\"Dogs are great companions, known for their loyalty and friendliness.\",\n",
    "        metadata={\"source\": \"mammal-pets-doc\"},\n",
    "    ),\n",
    "    Document(\n",
    "        page_content=\"Cats are independent pets that often enjoy their own space.\",\n",
    "        metadata={\"source\": \"mammal-pets-doc\"},\n",
    "    ),\n",
    "]\n",
    "\n",
    "print(documents)"
   ]
  },
  {
   "cell_type": "code",
   "execution_count": 33,
   "id": "55eaf9ef-4468-4ba0-a15f-611d748f684d",
   "metadata": {},
   "outputs": [
    {
     "name": "stdout",
     "output_type": "stream",
     "text": [
      "15\n",
      "page_content='「汉祚黄天」赛季开荒白皮书 \n",
      "目录 \n",
      "1. 开服前准备 \n",
      "2. 赛季商店活动介绍 \n",
      "3. 赛季名将卡包活动介绍 \n",
      "4. 开荒注意事项 \n",
      "5. 开荒阵容推荐 \n",
      "5-20级推荐阵容 \n",
      "需20级后转型阵容 \n",
      "6. 开荒节奏 \n",
      "(1) 土地信息 \n",
      "(2) 开荒流程' metadata={'producer': 'Microsoft® Word 2021', 'creator': 'Microsoft® Word 2021', 'creationdate': '2025-04-10T17:06:32+08:00', 'moddate': '2025-04-10T17:06:54+08:00', 'source': './data/s7开荒.pdf', 'total_pages': 15, 'page': 0, 'page_label': '1'}\n"
     ]
    }
   ],
   "source": [
    "from langchain_community.document_loaders import PyPDFLoader\n",
    "\n",
    "file_path = './data/s7开荒.pdf'\n",
    "# 加载pdf文件\n",
    "loader = PyPDFLoader(file_path)\n",
    "\n",
    "docs = loader.load()\n",
    "\n",
    "print(len(docs))\n",
    "print(docs[0])"
   ]
  },
  {
   "cell_type": "code",
   "execution_count": 32,
   "id": "451899f1-41fb-4751-b849-31ebfbbbdd38",
   "metadata": {},
   "outputs": [
    {
     "name": "stdout",
     "output_type": "stream",
     "text": [
      "18\n",
      "page_content='1. 开服前准备 \n",
      "1）赛季仓库 \n",
      "「汉祚黄天」赛季开始前，提前选好合适的装备和坐骑放入拓印背包。 （神兵和神驹不用\n",
      "放入赛季仓库。 ） \n",
      "赛季开始后，赛季仓库开放时间为创角后的 48 小时内，期间可取出装备和坐骑最多各\n",
      "4件，赛季仓库中的装备和坐骑为消耗品，取出后无法进行养成，赛季结束后消失。 （未\n",
      "取出的装备会保留，后续赛季仓库开放后可以正常取出使用） \n",
      "2）神兵阁' metadata={'producer': 'Microsoft® Word 2021', 'creator': 'Microsoft® Word 2021', 'creationdate': '2025-04-10T17:06:32+08:00', 'moddate': '2025-04-10T17:06:54+08:00', 'source': './data/s7开荒.pdf', 'total_pages': 15, 'page': 1, 'page_label': '2', 'start_index': 0}\n"
     ]
    }
   ],
   "source": [
    "from langchain_text_splitters import RecursiveCharacterTextSplitter\n",
    "\n",
    "# 拆分文档\n",
    "text_splitter = RecursiveCharacterTextSplitter(\n",
    "    chunk_size=200, chunk_overlap=10, add_start_index=True\n",
    ")\n",
    "all_splits = text_splitter.split_documents(docs)\n",
    "\n",
    "print(len(all_splits))\n",
    "\n",
    "print(all_splits[1])"
   ]
  },
  {
   "cell_type": "code",
   "execution_count": null,
   "id": "107ca386-90b9-4d46-8523-e8eceefa1e3c",
   "metadata": {},
   "outputs": [],
   "source": []
  }
 ],
 "metadata": {
  "kernelspec": {
   "display_name": "Python 3 (ipykernel)",
   "language": "python",
   "name": "python3"
  },
  "language_info": {
   "codemirror_mode": {
    "name": "ipython",
    "version": 3
   },
   "file_extension": ".py",
   "mimetype": "text/x-python",
   "name": "python",
   "nbconvert_exporter": "python",
   "pygments_lexer": "ipython3",
   "version": "3.10.0"
  }
 },
 "nbformat": 4,
 "nbformat_minor": 5
}
