{
 "cells": [
  {
   "cell_type": "code",
   "execution_count": 19,
   "id": "31b11a77-d5fc-4c13-9ffc-fac5dcece821",
   "metadata": {},
   "outputs": [],
   "source": [
    "from dotenv import load_dotenv\n",
    "\n",
    "load_dotenv()\n",
    "\n",
    "model = 'doubao-1-5-pro-32k-250115'\n",
    "\n",
    "model = init_chat_model(model, model_provider=\"openai\")"
   ]
  },
  {
   "cell_type": "code",
   "execution_count": 20,
   "id": "2a617588-53d8-435b-bda1-80bc5f4067dd",
   "metadata": {},
   "outputs": [
    {
     "data": {
      "text/plain": [
       "AIMessage(content='你好呀！有什么想聊的，都可以跟我说哦。 ', additional_kwargs={'refusal': None}, response_metadata={'token_usage': {'completion_tokens': 17, 'prompt_tokens': 10, 'total_tokens': 27, 'completion_tokens_details': {'accepted_prediction_tokens': None, 'audio_tokens': None, 'reasoning_tokens': 0, 'rejected_prediction_tokens': None}, 'prompt_tokens_details': {'audio_tokens': None, 'cached_tokens': 0}}, 'model_name': 'doubao-1-5-pro-32k-250115', 'system_fingerprint': None, 'id': '021744358757374c1f7c20f60a2e971bb719c27158f1b3414fcd4', 'finish_reason': 'stop', 'logprobs': None}, id='run-d522b688-6158-4588-a3e0-c063d8336d60-0', usage_metadata={'input_tokens': 10, 'output_tokens': 17, 'total_tokens': 27, 'input_token_details': {'cache_read': 0}, 'output_token_details': {'reasoning': 0}})"
      ]
     },
     "execution_count": 20,
     "metadata": {},
     "output_type": "execute_result"
    }
   ],
   "source": [
    "from langchain.chat_models import init_chat_model\n",
    "\n",
    "model.invoke('你好')"
   ]
  },
  {
   "cell_type": "code",
   "execution_count": 22,
   "id": "d30dbbbf-99d6-46d4-8e2c-aa887f2da79b",
   "metadata": {},
   "outputs": [
    {
     "data": {
      "text/plain": [
       "AIMessage(content='你好！你可以跟我聊任何你想聊的话题。', additional_kwargs={'refusal': None}, response_metadata={'token_usage': {'completion_tokens': 15, 'prompt_tokens': 32, 'total_tokens': 47, 'completion_tokens_details': {'accepted_prediction_tokens': None, 'audio_tokens': None, 'reasoning_tokens': 0, 'rejected_prediction_tokens': None}, 'prompt_tokens_details': {'audio_tokens': None, 'cached_tokens': 0}}, 'model_name': 'doubao-1-5-pro-32k-250115', 'system_fingerprint': None, 'id': '02174435878577497a41f6cf86a865c490e638ddfcdaab68f8e5c', 'finish_reason': 'stop', 'logprobs': None}, id='run-c5d3ae42-3bde-452d-97f2-55e7397a7c44-0', usage_metadata={'input_tokens': 32, 'output_tokens': 15, 'total_tokens': 47, 'input_token_details': {'cache_read': 0}, 'output_token_details': {'reasoning': 0}})"
      ]
     },
     "execution_count": 22,
     "metadata": {},
     "output_type": "execute_result"
    }
   ],
   "source": [
    "from langchain_core.messages import HumanMessage, SystemMessage\n",
    "\n",
    "messages = [\n",
    "    SystemMessage(\"Translate the following from English into Chinese\"),\n",
    "    HumanMessage(\"Hello! You can tell me anything you want to talk about.\"),\n",
    "]\n",
    "\n",
    "model.invoke(messages)"
   ]
  },
  {
   "cell_type": "code",
   "execution_count": 29,
   "id": "9c2de362-da28-4b3b-b195-fdbf9ef84c60",
   "metadata": {},
   "outputs": [
    {
     "name": "stdout",
     "output_type": "stream",
     "text": [
      "你|好|！|你|可以|跟|我说|任何|你|想|聊|的|事情|。||"
     ]
    }
   ],
   "source": [
    "from langchain_core.prompts import ChatPromptTemplate\n",
    "\n",
    "template = ChatPromptTemplate.from_messages(\n",
    "    [(\"system\", \"Translate the following from English into {language}\"), (\"user\", \"{text}\")]\n",
    ")\n",
    "\n",
    "prompt = template.invoke({\"language\": \"Chinese\", \"text\": \"Hello! You can tell me anything you want to talk about.\"})\n",
    "\n",
    "for chunk in model.stream(prompt):\n",
    "    print(chunk.content,end='|')"
   ]
  }
 ],
 "metadata": {
  "kernelspec": {
   "display_name": "Python 3 (ipykernel)",
   "language": "python",
   "name": "python3"
  },
  "language_info": {
   "codemirror_mode": {
    "name": "ipython",
    "version": 3
   },
   "file_extension": ".py",
   "mimetype": "text/x-python",
   "name": "python",
   "nbconvert_exporter": "python",
   "pygments_lexer": "ipython3",
   "version": "3.10.0"
  }
 },
 "nbformat": 4,
 "nbformat_minor": 5
}
