{
 "cells": [
  {
   "cell_type": "code",
   "execution_count": 8,
   "id": "31b11a77-d5fc-4c13-9ffc-fac5dcece821",
   "metadata": {},
   "outputs": [],
   "source": [
    "from dotenv import load_dotenv\n",
    "from langchain.chat_models import init_chat_model\n",
    "\n",
    "load_dotenv()\n",
    "\n",
    "model = 'doubao-1-5-pro-32k-250115'\n",
    "\n",
    "llm = init_chat_model(model, model_provider=\"openai\")"
   ]
  },
  {
   "cell_type": "code",
   "execution_count": 9,
   "id": "2a617588-53d8-435b-bda1-80bc5f4067dd",
   "metadata": {},
   "outputs": [
    {
     "data": {
      "text/plain": [
       "AIMessage(content='你好呀！有什么想聊的都可以跟我说。 ', additional_kwargs={'refusal': None}, response_metadata={'token_usage': {'completion_tokens': 15, 'prompt_tokens': 10, 'total_tokens': 25, 'completion_tokens_details': {'accepted_prediction_tokens': None, 'audio_tokens': None, 'reasoning_tokens': 0, 'rejected_prediction_tokens': None}, 'prompt_tokens_details': {'audio_tokens': None, 'cached_tokens': 0}}, 'model_name': 'doubao-1-5-pro-32k-250115', 'system_fingerprint': None, 'id': '0217449005135586a74681675e2b31bae404933e0086159eb244a', 'finish_reason': 'stop', 'logprobs': None}, id='run-42897b39-0f72-4474-afae-ce5f73f1cbc0-0', usage_metadata={'input_tokens': 10, 'output_tokens': 15, 'total_tokens': 25, 'input_token_details': {'cache_read': 0}, 'output_token_details': {'reasoning': 0}})"
      ]
     },
     "execution_count": 9,
     "metadata": {},
     "output_type": "execute_result"
    }
   ],
   "source": [
    "from langchain.chat_models import init_chat_model\n",
    "\n",
    "llm.invoke('你好')"
   ]
  },
  {
   "cell_type": "code",
   "execution_count": 10,
   "id": "d30dbbbf-99d6-46d4-8e2c-aa887f2da79b",
   "metadata": {},
   "outputs": [
    {
     "data": {
      "text/plain": [
       "AIMessage(content='你好！你可以跟我讲任何你想聊的事情。', additional_kwargs={'refusal': None}, response_metadata={'token_usage': {'completion_tokens': 15, 'prompt_tokens': 32, 'total_tokens': 47, 'completion_tokens_details': {'accepted_prediction_tokens': None, 'audio_tokens': None, 'reasoning_tokens': 0, 'rejected_prediction_tokens': None}, 'prompt_tokens_details': {'audio_tokens': None, 'cached_tokens': 0}}, 'model_name': 'doubao-1-5-pro-32k-250115', 'system_fingerprint': None, 'id': '0217449005153956a74681675e2b31bae404933e0086159136835', 'finish_reason': 'stop', 'logprobs': None}, id='run-69429757-d1d7-409d-892f-8721d592b145-0', usage_metadata={'input_tokens': 32, 'output_tokens': 15, 'total_tokens': 47, 'input_token_details': {'cache_read': 0}, 'output_token_details': {'reasoning': 0}})"
      ]
     },
     "execution_count": 10,
     "metadata": {},
     "output_type": "execute_result"
    }
   ],
   "source": [
    "from langchain_core.messages import HumanMessage, SystemMessage\n",
    "\n",
    "messages = [\n",
    "    SystemMessage(\"Translate the following from English into Chinese\"),\n",
    "    HumanMessage(\"Hello! You can tell me anything you want to talk about.\"),\n",
    "]\n",
    "\n",
    "llm.invoke(messages)"
   ]
  },
  {
   "cell_type": "code",
   "execution_count": 11,
   "id": "9c2de362-da28-4b3b-b195-fdbf9ef84c60",
   "metadata": {},
   "outputs": [
    {
     "name": "stdout",
     "output_type": "stream",
     "text": [
      "你|好|！|你|可以|跟|我|聊|任何|你|想|聊|的|事情|。||"
     ]
    }
   ],
   "source": [
    "from langchain_core.prompts import ChatPromptTemplate\n",
    "\n",
    "template = ChatPromptTemplate.from_messages(\n",
    "    [(\"system\", \"Translate the following from English into {language}\"), (\"user\", \"{text}\")]\n",
    ")\n",
    "\n",
    "prompt = template.invoke({\"language\": \"Chinese\", \"text\": \"Hello! You can tell me anything you want to talk about.\"})\n",
    "\n",
    "for chunk in llm.stream(prompt):\n",
    "    print(chunk.content,end='|')"
   ]
  }
 ],
 "metadata": {
  "kernelspec": {
   "display_name": "Python 3 (ipykernel)",
   "language": "python",
   "name": "python3"
  },
  "language_info": {
   "codemirror_mode": {
    "name": "ipython",
    "version": 3
   },
   "file_extension": ".py",
   "mimetype": "text/x-python",
   "name": "python",
   "nbconvert_exporter": "python",
   "pygments_lexer": "ipython3",
   "version": "3.10.16"
  }
 },
 "nbformat": 4,
 "nbformat_minor": 5
}
